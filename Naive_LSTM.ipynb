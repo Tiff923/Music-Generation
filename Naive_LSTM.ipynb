{
  "nbformat": 4,
  "nbformat_minor": 0,
  "metadata": {
    "colab": {
      "name": "Naive LSTM.ipynb",
      "provenance": [],
      "collapsed_sections": [],
      "authorship_tag": "ABX9TyO+NVZ50nmKl+azXUAQeHFl",
      "include_colab_link": true
    },
    "kernelspec": {
      "name": "python3",
      "display_name": "Python 3"
    },
    "accelerator": "GPU"
  },
  "cells": [
    {
      "cell_type": "markdown",
      "metadata": {
        "id": "view-in-github",
        "colab_type": "text"
      },
      "source": [
        "<a href=\"https://colab.research.google.com/github/Tiff923/Music-Generation/blob/main/Naive_LSTM.ipynb\" target=\"_parent\"><img src=\"https://colab.research.google.com/assets/colab-badge.svg\" alt=\"Open In Colab\"/></a>"
      ]
    },
    {
      "cell_type": "code",
      "metadata": {
        "id": "-m2PQn3PnBwe",
        "colab": {
          "base_uri": "https://localhost:8080/"
        },
        "outputId": "16ac40ec-20e6-49ea-a0e6-a4b3191722d6"
      },
      "source": [
        "from google.colab import drive\n",
        "\n",
        "drive.mount('/content/gdrive')"
      ],
      "execution_count": null,
      "outputs": [
        {
          "output_type": "stream",
          "text": [
            "Mounted at /content/gdrive\n"
          ],
          "name": "stdout"
        }
      ]
    },
    {
      "cell_type": "code",
      "metadata": {
        "colab": {
          "base_uri": "https://localhost:8080/"
        },
        "id": "uk3ZHFmSev_-",
        "outputId": "faf4652d-f2a4-421e-e663-23290e21b870"
      },
      "source": [
        "from music21 import converter, instrument, note, chord\n",
        "import pickle\n",
        "import glob\n",
        "\n",
        "def get_notes():\n",
        "    \"\"\" Get all the notes and chords from the midi files in the ./midi_songs directory \"\"\"\n",
        "    notes = []\n",
        "\n",
        "    for file in glob.glob(\"/content/gdrive/My Drive/Colab Notebooks/CDS 2020/CDS Project 2020/Data/midi/*.mid\"):\n",
        "      midi = converter.parse(file)\n",
        "\n",
        "      notes_to_parse = None\n",
        "\n",
        "      try: # file has instrument parts\n",
        "        s2 = instrument.partitionByInstrument(midi)\n",
        "        notes_to_parse = s2.parts[0].recurse() \n",
        "      except: # file has notes in a flat structure\n",
        "        notes_to_parse = midi.flat.notes\n",
        "\n",
        "      for element in notes_to_parse:\n",
        "        if isinstance(element, note.Note):\n",
        "          notes.append(str(element.pitch))\n",
        "        elif isinstance(element, chord.Chord):\n",
        "          notes.append('.'.join(str(n) for n in element.normalOrder))\n",
        "\n",
        "    with open('/content/gdrive/My Drive/Colab Notebooks/CDS 2020/CDS Project 2020/Data/notes', 'wb') as filepath:\n",
        "        pickle.dump(notes, filepath)\n",
        "\n",
        "    return notes\n",
        "\n",
        "notes = get_notes()\n",
        "print(notes[:200])"
      ],
      "execution_count": null,
      "outputs": [
        {
          "output_type": "stream",
          "text": [
            "['A2', 'A2', 'A2', 'A2', 'A2', 'A2', 'A2', 'A2', 'D4', '2', 'D4', 'D4', 'F4', 'A3', 'B-3', 'D4', 'D4', 'D4', 'F4', 'A3', 'B-3', 'D4', 'D4', 'D4', 'F4', 'A3', 'B-3', 'D4', 'D4', 'D4', 'F4', 'A3', 'B-3', 'B-3', 'G2', 'G3', 'B-3', 'B-3', 'D4', 'G3', 'F4', 'B-3', 'A3', 'B-3', 'B-3', 'D4', 'G3', 'F4', 'B-3', '2', 'A3', 'D2', 'D3', '2', 'D4', 'D4', 'F4', 'B-3', 'D5', 'D5', 'D4', '2', 'D3', '2', 'D4', 'D4', 'F4', 'A3', 'B-3', 'B-3', 'G4', 'G2', 'G3', 'B-3', 'B-3', 'D4', 'G3', 'F4', 'B-3', 'A4', 'A3', 'B-3', 'B-3', 'D4', 'G3', 'F4', 'B-4', 'B-3', 'D4', 'A4', '9.2', 'D4', 'D4', 'F4', 'A3', 'B-3', 'D4', 'D2', 'D4', 'D4', 'F4', 'A3', 'B-3', 'D4', '2', 'D4', 'D4', '11', 'B-7', 'F#5', 'F#7', 'F7', '7.11', 'F#7', 'F#5', 'D7', 'C#7', '11.2', 'C#7', 'F#5', 'B-6', 'B6', 'F#6', 'F6', '6.11', '11', 'B6', 'B-7', 'F#5', 'F#7', '5', '7.11', 'F#6', 'F#7', 'F#5', 'D7', '1.7', '11.2', 'F#6', 'C#7', 'F#5', 'B-6', 'B6', '1.7', '6.11', '11', '6.10', '6.7', 'F7', 'B4', 'F#5', 'G5', '7.11', '6', '2.7', 'C#7', 'B4', 'F#5', 'G5', '11.2', '1.6', '7.10', '11', '6', '5.7', '6.11', 'B4', 'F#5', 'G5', 'B4', 'A5', 'G5', '11', 'B6', '6.10', '6.7', '5', 'B4', 'F#5', 'G5', '7.11', 'F#6', '6', '2.7', '1.7', 'B4', 'F#5', 'G5', '11.2', 'F#6', '1.6', '7.10', 'B6', 'B4', 'F#5', '1.7', '6.11', '11.2', 'B3', 'F#4']\n"
          ],
          "name": "stdout"
        }
      ]
    },
    {
      "cell_type": "code",
      "metadata": {
        "id": "x_1I36DSEWwl"
      },
      "source": [
        "import numpy \n",
        "\n",
        "def prepare_sequences(notes, n_vocab):\n",
        "  sequence_length = 100\n",
        "\n",
        "  # get all pitch names \n",
        "  pitchnames=sorted(set(notes))\n",
        "\n",
        "  # create a dictionary to map pitches to integers \n",
        "  notes_to_int = dict([(note, number) for number, note in enumerate(pitchnames)])\n",
        "\n",
        "  network_input = []\n",
        "  network_output = []\n",
        "\n",
        "  # create input sequences and the corresponding outputs \n",
        "  for i in range(0, len(notes)- sequence_length):\n",
        "    sequence_in = notes[i : i+sequence_length]\n",
        "    sequence_out = notes[i+sequence_length]\n",
        "    network_input.append([notes_to_int[char] for char in sequence_in])\n",
        "    network_output.append(notes_to_int[sequence_out])\n",
        "  \n",
        "  n_network_input = len(network_input)\n",
        "\n",
        "  # reshape input into a format compatible with LSTM layers \n",
        "  network_input = numpy.reshape(network_input, (n_network_input, sequence_length, 1))\n",
        "  # normalise input \n",
        "  network_input = network_input/n_vocab \n",
        "\n",
        "  network_output = np_utils.to_categorical(network_output)\n",
        "\n",
        "  return network_input, network_output\n",
        "\n",
        "# n_vocab = len(set(notes))\n",
        "# i, i_norm = prepare_sequences(notes,n_vocab)\n",
        "# print(numpy.max(i_norm))\n",
        "\n",
        "\n"
      ],
      "execution_count": null,
      "outputs": []
    },
    {
      "cell_type": "code",
      "metadata": {
        "id": "XDVJcP9YGxKV",
        "colab": {
          "base_uri": "https://localhost:8080/"
        },
        "outputId": "f15b58d7-df79-4cd3-d332-169a3245fc60"
      },
      "source": [
        "from keras.models import Sequential\n",
        "from keras.layers import Dense\n",
        "from keras.layers import Dropout\n",
        "from keras.layers import LSTM\n",
        "from keras.utils import np_utils\n",
        "\n",
        "def create_network(network_input, n_vocab):\n",
        "  print(type(network_input))\n",
        "  model = Sequential()\n",
        "  model.add(LSTM(\n",
        "          512,\n",
        "          input_shape=(network_input.shape[1], network_input.shape[2])\n",
        "  ))\n",
        "  model.add(Dropout(0.3))\n",
        "  model.add(Dense(n_vocab, activation='softmax'))\n",
        "  model.compile(loss='categorical_crossentropy', optimizer='adam')\n",
        "\n",
        "  return model \n",
        "\n",
        "\n",
        "def train(model, network_input, network_output):\n",
        "  model.fit(network_input, network_output, epochs=50, batch_size=128)\n",
        "  model.save('/content/gdrive/My Drive/Colab Notebooks/CDS 2020/CDS Project 2020/LSTM_model')\n",
        "  return \n",
        "\n",
        "\n",
        "def train_network():\n",
        "  notes = get_notes()\n",
        "  n_vocab = len(set(notes))\n",
        "  network_input, network_output = prepare_sequences(notes, n_vocab)\n",
        "  model = create_network(network_input, n_vocab)\n",
        "  train(model, network_input, network_output) \n",
        "  return \n",
        "\n",
        "train_network()\n"
      ],
      "execution_count": null,
      "outputs": [
        {
          "output_type": "stream",
          "text": [
            "<class 'numpy.ndarray'>\n",
            "Epoch 1/50\n",
            "874/874 [==============================] - 28s 32ms/step - loss: 4.7200\n",
            "Epoch 2/50\n",
            "874/874 [==============================] - 30s 34ms/step - loss: 4.6241\n",
            "Epoch 3/50\n",
            "874/874 [==============================] - 30s 34ms/step - loss: 4.5162\n",
            "Epoch 4/50\n",
            "874/874 [==============================] - 29s 34ms/step - loss: 4.4830\n",
            "Epoch 5/50\n",
            "874/874 [==============================] - 30s 34ms/step - loss: 4.4362\n",
            "Epoch 6/50\n",
            "874/874 [==============================] - 29s 33ms/step - loss: 4.3619\n",
            "Epoch 7/50\n",
            "874/874 [==============================] - 29s 33ms/step - loss: 4.2939\n",
            "Epoch 8/50\n",
            "874/874 [==============================] - 29s 34ms/step - loss: 4.2107\n",
            "Epoch 9/50\n",
            "874/874 [==============================] - 29s 34ms/step - loss: 4.1558\n",
            "Epoch 10/50\n",
            "874/874 [==============================] - 30s 34ms/step - loss: 4.0056\n",
            "Epoch 11/50\n",
            "874/874 [==============================] - 30s 34ms/step - loss: 3.8758\n",
            "Epoch 12/50\n",
            "874/874 [==============================] - 30s 34ms/step - loss: 3.7509\n",
            "Epoch 13/50\n",
            "874/874 [==============================] - 30s 34ms/step - loss: 3.6299\n",
            "Epoch 14/50\n",
            "874/874 [==============================] - 30s 34ms/step - loss: 3.5002\n",
            "Epoch 15/50\n",
            "874/874 [==============================] - 30s 34ms/step - loss: 3.3906\n",
            "Epoch 16/50\n",
            "874/874 [==============================] - 30s 34ms/step - loss: 3.2835\n",
            "Epoch 17/50\n",
            "874/874 [==============================] - 30s 35ms/step - loss: 3.1799\n",
            "Epoch 18/50\n",
            "874/874 [==============================] - 30s 35ms/step - loss: 3.0875\n",
            "Epoch 19/50\n",
            "874/874 [==============================] - 30s 35ms/step - loss: 3.0179\n",
            "Epoch 20/50\n",
            "874/874 [==============================] - 30s 34ms/step - loss: 2.9225\n",
            "Epoch 21/50\n",
            "874/874 [==============================] - 29s 34ms/step - loss: 2.8447\n",
            "Epoch 22/50\n",
            "874/874 [==============================] - 29s 33ms/step - loss: 2.7658\n",
            "Epoch 23/50\n",
            "874/874 [==============================] - 30s 34ms/step - loss: 2.7136\n",
            "Epoch 24/50\n",
            "874/874 [==============================] - 30s 35ms/step - loss: 2.6337\n",
            "Epoch 25/50\n",
            "874/874 [==============================] - 30s 35ms/step - loss: 2.5792\n",
            "Epoch 26/50\n",
            "874/874 [==============================] - 30s 35ms/step - loss: 2.5141\n",
            "Epoch 27/50\n",
            "874/874 [==============================] - 30s 35ms/step - loss: 2.4668\n",
            "Epoch 28/50\n",
            "874/874 [==============================] - 30s 35ms/step - loss: 2.3939\n",
            "Epoch 29/50\n",
            "874/874 [==============================] - 30s 34ms/step - loss: 2.3437\n",
            "Epoch 30/50\n",
            "874/874 [==============================] - 30s 34ms/step - loss: 2.3039\n",
            "Epoch 31/50\n",
            "874/874 [==============================] - 30s 34ms/step - loss: 2.2495\n",
            "Epoch 32/50\n",
            "874/874 [==============================] - 30s 34ms/step - loss: 2.2208\n",
            "Epoch 33/50\n",
            "874/874 [==============================] - 30s 34ms/step - loss: 2.1665\n",
            "Epoch 34/50\n",
            "874/874 [==============================] - 29s 34ms/step - loss: 2.1327\n",
            "Epoch 35/50\n",
            "874/874 [==============================] - 29s 34ms/step - loss: 2.0824\n",
            "Epoch 36/50\n",
            "874/874 [==============================] - 29s 33ms/step - loss: 2.0490\n",
            "Epoch 37/50\n",
            "874/874 [==============================] - 29s 33ms/step - loss: 2.0365\n",
            "Epoch 38/50\n",
            "874/874 [==============================] - 29s 33ms/step - loss: 1.9939\n",
            "Epoch 39/50\n",
            "874/874 [==============================] - 29s 33ms/step - loss: 2.0637\n",
            "Epoch 40/50\n",
            "874/874 [==============================] - 29s 33ms/step - loss: 1.9640\n",
            "Epoch 41/50\n",
            "874/874 [==============================] - 30s 34ms/step - loss: 1.8857\n",
            "Epoch 42/50\n",
            "874/874 [==============================] - 30s 34ms/step - loss: 1.9608\n",
            "Epoch 43/50\n",
            "874/874 [==============================] - 30s 34ms/step - loss: 1.8640\n",
            "Epoch 44/50\n",
            "874/874 [==============================] - 30s 34ms/step - loss: 1.8426\n",
            "Epoch 45/50\n",
            "874/874 [==============================] - 30s 34ms/step - loss: 1.8120\n",
            "Epoch 46/50\n",
            "874/874 [==============================] - 30s 34ms/step - loss: 1.7682\n",
            "Epoch 47/50\n",
            "874/874 [==============================] - 30s 35ms/step - loss: 1.7753\n",
            "Epoch 48/50\n",
            "874/874 [==============================] - 30s 35ms/step - loss: 1.7478\n",
            "Epoch 49/50\n",
            "874/874 [==============================] - 30s 35ms/step - loss: 1.7489\n",
            "Epoch 50/50\n",
            "874/874 [==============================] - 30s 35ms/step - loss: 1.7150\n",
            "WARNING:tensorflow:From /usr/local/lib/python3.6/dist-packages/tensorflow/python/training/tracking/tracking.py:111: Model.state_updates (from tensorflow.python.keras.engine.training) is deprecated and will be removed in a future version.\n",
            "Instructions for updating:\n",
            "This property should not be used in TensorFlow 2.0, as updates are applied automatically.\n",
            "WARNING:tensorflow:From /usr/local/lib/python3.6/dist-packages/tensorflow/python/training/tracking/tracking.py:111: Layer.updates (from tensorflow.python.keras.engine.base_layer) is deprecated and will be removed in a future version.\n",
            "Instructions for updating:\n",
            "This property should not be used in TensorFlow 2.0, as updates are applied automatically.\n",
            "INFO:tensorflow:Assets written to: /content/gdrive/My Drive/Colab Notebooks/CDS 2020/CDS Project 2020/LSTM_model/assets\n"
          ],
          "name": "stdout"
        }
      ]
    },
    {
      "cell_type": "code",
      "metadata": {
        "id": "4zXK6pdxFPe1"
      },
      "source": [
        "import numpy\n",
        "\n",
        "def prepare_sequences(notes):\n",
        "  sequence_length = 100\n",
        "\n",
        "  pitchnames=sorted(set(notes))\n",
        "\n",
        "  notes_to_int = dict([(note, number) for number, note in enumerate(pitchnames)])\n",
        "\n",
        "  network_input = []\n",
        "  output = []\n",
        "\n",
        "  for i in range(0, len(notes)- sequence_length):\n",
        "    sequence_in = notes[i : i+sequence_length]\n",
        "    sequence_out = notes[i+sequence_length]\n",
        "    network_input.append([notes_to_int[char] for char in sequence_in])\n",
        "    output.append(notes_to_int[sequence_out])\n",
        "  \n",
        "  return network_input "
      ],
      "execution_count": null,
      "outputs": []
    },
    {
      "cell_type": "code",
      "metadata": {
        "id": "_DAG75CPAIhc"
      },
      "source": [
        "import numpy \n",
        "from keras.models import load_model\n",
        "\n",
        "def generate_note(model_filePath, network_input, pitchnames, n_vocab):\n",
        "  model = load_model(model_filePath)\n",
        "\n",
        "  int_to_note = dict([(number, note) for number, note in enumerate(pitchnames)])\n",
        "\n",
        "  start = numpy.random.randint(0, len(network_input)-1)\n",
        "  pattern = network_input[start]\n",
        "  prediction_output = []\n",
        "\n",
        "  # generate 500 notes \n",
        "  for note_index in range(500):\n",
        "    prediction_input = numpy.reshape(pattern, (1, len(pattern), 1))\n",
        "    prediction_input = prediction_input/float(n_vocab)\n",
        "\n",
        "    prediction = model.predict(prediction_input)\n",
        "\n",
        "    index = numpy.argmax(prediction)\n",
        "    result = int_to_note[index]\n",
        "    prediction_output.append(result)\n",
        "\n",
        "    pattern.append(index)\n",
        "    pattern = pattern[1:len(pattern)]\n",
        "\n",
        "  return prediction_output \n"
      ],
      "execution_count": null,
      "outputs": []
    },
    {
      "cell_type": "code",
      "metadata": {
        "id": "ogEGm-MNItNB"
      },
      "source": [
        "from music21 import converter, instrument, note, chord, stream\n",
        "\n",
        "def create_midi(prediction_output):\n",
        "    \"\"\" convert the output from the prediction to notes and create a midi file\n",
        "        from the notes \"\"\"\n",
        "    offset = 0\n",
        "    output_notes = []\n",
        "\n",
        "    # create note and chord objects based on the values generated by the model\n",
        "    for pattern in prediction_output:\n",
        "        # pattern is a chord\n",
        "        if ('.' in pattern) or pattern.isdigit():\n",
        "            notes_in_chord = pattern.split('.')\n",
        "            notes = []\n",
        "            for current_note in notes_in_chord:\n",
        "                new_note = note.Note(int(current_note))\n",
        "                new_note.storedInstrument = instrument.Piano()\n",
        "                notes.append(new_note)\n",
        "            new_chord = chord.Chord(notes)\n",
        "            new_chord.offset = offset\n",
        "            output_notes.append(new_chord)\n",
        "        # pattern is a note\n",
        "        else:\n",
        "            new_note = note.Note(pattern)\n",
        "            new_note.offset = offset\n",
        "            new_note.storedInstrument = instrument.Piano()\n",
        "            output_notes.append(new_note)\n",
        "\n",
        "        # increase offset each iteration so that notes do not stack\n",
        "        offset += 0.5\n",
        "\n",
        "    midi_stream = stream.Stream(output_notes)\n",
        "\n",
        "    midi_stream.write('midi', fp='test_output.mid')"
      ],
      "execution_count": null,
      "outputs": []
    },
    {
      "cell_type": "code",
      "metadata": {
        "id": "PTD7Hx6CIvFH"
      },
      "source": [
        "import pickle \n",
        "\n",
        "def generate():\n",
        "  with open('/content/gdrive/My Drive/Colab Notebooks/CDS 2020/CDS Project 2020/Data/notes', 'rb') as filepath:\n",
        "    notes = pickle.load(filepath)\n",
        "  \n",
        "  n_vocab = len(set(notes))\n",
        "  pitchnames=sorted(set(notes))\n",
        "\n",
        "  network_input = prepare_sequences(notes) \n",
        "  prediction_output = generate_note('/content/gdrive/My Drive/Colab Notebooks/CDS 2020/CDS Project 2020/LSTM_model', network_input, pitchnames, n_vocab)\n",
        "  create_midi(prediction_output)\n",
        "\n",
        "  return \n",
        "\n",
        "generate()\n",
        "\n",
        "\n",
        "\n"
      ],
      "execution_count": null,
      "outputs": []
    },
    {
      "cell_type": "code",
      "metadata": {
        "id": "YQJsGgz5UBd2",
        "colab": {
          "base_uri": "https://localhost:8080/",
          "height": 344
        },
        "outputId": "1096945d-6fb1-4bc3-c555-0cc1a2c05380"
      },
      "source": [
        "import music21 as m21\n",
        "\n",
        "s = m21.converter.parse('/content/gdrive/My Drive/Colab Notebooks/CDS 2020/CDS Project 2020/Output/test_output_1.mid')\n",
        "s.plot('pianoroll', figureSize=(12, 5))\n"
      ],
      "execution_count": null,
      "outputs": [
        {
          "output_type": "display_data",
          "data": {
            "image/png": "[encoded data removed]",
            "text/plain": [
              "<Figure size 864x360 with 1 Axes>"
            ]
          },
          "metadata": {
            "tags": [],
            "image/png": {
              "width": 693,
              "height": 327
            }
          }
        }
      ]
    }
  ]
}
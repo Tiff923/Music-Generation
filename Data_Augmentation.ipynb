{
  "nbformat": 4,
  "nbformat_minor": 0,
  "metadata": {
    "colab": {
      "name": "Data Augmentation.ipynb",
      "provenance": [],
      "authorship_tag": "ABX9TyMY6b+ZSxQIzPsJss7o5Okz",
      "include_colab_link": true
    },
    "kernelspec": {
      "name": "python3",
      "display_name": "Python 3"
    }
  },
  "cells": [
    {
      "cell_type": "markdown",
      "metadata": {
        "id": "view-in-github",
        "colab_type": "text"
      },
      "source": [
        "<a href=\"https://colab.research.google.com/github/Tiff923/Music-Generation/blob/main/Data_Augmentation.ipynb\" target=\"_parent\"><img src=\"https://colab.research.google.com/assets/colab-badge.svg\" alt=\"Open In Colab\"/></a>"
      ]
    },
    {
      "cell_type": "code",
      "metadata": {
        "id": "trGsDhV49Vxk"
      },
      "source": [
        "def transpose_score(file, key):\r\n",
        "    notes = []\r\n",
        "    notes_to_parse = None \r\n",
        "    print(file)\r\n",
        "    midi = converter.parse(file)\r\n",
        "    print('midi', midi)\r\n",
        "    k = midi.analyze('key')\r\n",
        "    print('k', k)\r\n",
        "    i = interval.Interval(k.tonic, pitch.Pitch(key))\r\n",
        "    sNew = midi.transpose(i)\r\n",
        "    fileName = file.replace('/home/chow/Desktop/musescore/', '')\r\n",
        "    filepath = \"{0}/processed/{1}_major_{2}\".format('/home/chow/Desktop/musescore',key,fileName)\r\n",
        "    return sNew.write('midi', fp=filepath)"
      ],
      "execution_count": null,
      "outputs": []
    }
  ]
}